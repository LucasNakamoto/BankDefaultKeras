{
 "cells": [
  {
   "cell_type": "code",
   "execution_count": 5,
   "metadata": {},
   "outputs": [
    {
     "name": "stdout",
     "output_type": "stream",
     "text": [
      "      age            job  marital  education default  balance housing loan  \\\n",
      "0      30     unemployed  married    primary      no     1787      no   no   \n",
      "1      33       services  married  secondary      no     4789     yes  yes   \n",
      "2      35     management   single   tertiary      no     1350     yes   no   \n",
      "3      30     management  married   tertiary      no     1476     yes  yes   \n",
      "4      59    blue-collar  married  secondary      no        0     yes   no   \n",
      "...   ...            ...      ...        ...     ...      ...     ...  ...   \n",
      "4516   33       services  married  secondary      no     -333     yes   no   \n",
      "4517   57  self-employed  married   tertiary     yes    -3313     yes  yes   \n",
      "4518   57     technician  married  secondary      no      295      no   no   \n",
      "4519   28    blue-collar  married  secondary      no     1137      no   no   \n",
      "4520   44   entrepreneur   single   tertiary      no     1136     yes  yes   \n",
      "\n",
      "       contact  day month  duration  campaign  pdays  previous poutcome   y  \n",
      "0     cellular   19   oct        79         1     -1         0  unknown  no  \n",
      "1     cellular   11   may       220         1    339         4  failure  no  \n",
      "2     cellular   16   apr       185         1    330         1  failure  no  \n",
      "3      unknown    3   jun       199         4     -1         0  unknown  no  \n",
      "4      unknown    5   may       226         1     -1         0  unknown  no  \n",
      "...        ...  ...   ...       ...       ...    ...       ...      ...  ..  \n",
      "4516  cellular   30   jul       329         5     -1         0  unknown  no  \n",
      "4517   unknown    9   may       153         1     -1         0  unknown  no  \n",
      "4518  cellular   19   aug       151        11     -1         0  unknown  no  \n",
      "4519  cellular    6   feb       129         4    211         3    other  no  \n",
      "4520  cellular    3   apr       345         2    249         7    other  no  \n",
      "\n",
      "[4521 rows x 17 columns]\n"
     ]
    }
   ],
   "source": [
    "import pandas as pd\n",
    "\n",
    "\n",
    "data = pd.read_csv(\"bank.csv\", sep = \";\")\n",
    "\n",
    "print (data)"
   ]
  },
  {
   "cell_type": "code",
   "execution_count": 6,
   "metadata": {},
   "outputs": [
    {
     "name": "stdout",
     "output_type": "stream",
     "text": [
      "      age  job  marital  education  default  balance  housing  loan  contact  \\\n",
      "0      30   10        1          0        0     1787        0     0        0   \n",
      "1      33    7        1          1        0     4789        1     1        0   \n",
      "2      35    4        2          2        0     1350        1     0        0   \n",
      "3      30    4        1          2        0     1476        1     1        2   \n",
      "4      59    1        1          1        0        0        1     0        2   \n",
      "...   ...  ...      ...        ...      ...      ...      ...   ...      ...   \n",
      "4516   33    7        1          1        0     -333        1     0        0   \n",
      "4517   57    6        1          2        1    -3313        1     1        2   \n",
      "4518   57    9        1          1        0      295        0     0        0   \n",
      "4519   28    1        1          1        0     1137        0     0        0   \n",
      "4520   44    2        2          2        0     1136        1     1        0   \n",
      "\n",
      "      day  month  duration  campaign  pdays  previous poutcome  y  \n",
      "0      19     10        79         1     -1         0  unknown  0  \n",
      "1      11      8       220         1    339         4  failure  0  \n",
      "2      16      0       185         1    330         1  failure  0  \n",
      "3       3      6       199         4     -1         0  unknown  0  \n",
      "4       5      8       226         1     -1         0  unknown  0  \n",
      "...   ...    ...       ...       ...    ...       ...      ... ..  \n",
      "4516   30      5       329         5     -1         0  unknown  0  \n",
      "4517    9      8       153         1     -1         0  unknown  0  \n",
      "4518   19      1       151        11     -1         0  unknown  0  \n",
      "4519    6      3       129         4    211         3    other  0  \n",
      "4520    3      0       345         2    249         7    other  0  \n",
      "\n",
      "[4521 rows x 17 columns]\n"
     ]
    }
   ],
   "source": [
    "from sklearn import preprocessing\n",
    "\n",
    "col_to_encode = ['job', 'marital', 'education', 'default', 'housing', 'loan','contact', 'y', 'month']\n",
    "\n",
    "le = preprocessing.LabelEncoder() #vai codificar as classes entre 0 e numero de classes - 1\n",
    "\n",
    "for i in range(0,len(col_to_encode)):\n",
    "    le = le.fit(data[col_to_encode[i]])\n",
    "    data[col_to_encode[i]] = le.transform(data[col_to_encode[i]]) #transforma as classes e retorna elas codificadas em numeros\n",
    "    \n",
    "print(data)"
   ]
  },
  {
   "cell_type": "code",
   "execution_count": 7,
   "metadata": {},
   "outputs": [
    {
     "name": "stdout",
     "output_type": "stream",
     "text": [
      "      age  job  marital  education  default  balance  housing  loan  contact  \\\n",
      "0      30   10        1          0        0     1787        0     0        0   \n",
      "1      33    7        1          1        0     4789        1     1        0   \n",
      "2      35    4        2          2        0     1350        1     0        0   \n",
      "3      30    4        1          2        0     1476        1     1        2   \n",
      "4      59    1        1          1        0        0        1     0        2   \n",
      "...   ...  ...      ...        ...      ...      ...      ...   ...      ...   \n",
      "4516   33    7        1          1        0     -333        1     0        0   \n",
      "4517   57    6        1          2        1    -3313        1     1        2   \n",
      "4518   57    9        1          1        0      295        0     0        0   \n",
      "4519   28    1        1          1        0     1137        0     0        0   \n",
      "4520   44    2        2          2        0     1136        1     1        0   \n",
      "\n",
      "      day  month  y  \n",
      "0      19     10  0  \n",
      "1      11      8  0  \n",
      "2      16      0  0  \n",
      "3       3      6  0  \n",
      "4       5      8  0  \n",
      "...   ...    ... ..  \n",
      "4516   30      5  0  \n",
      "4517    9      8  0  \n",
      "4518   19      1  0  \n",
      "4519    6      3  0  \n",
      "4520    3      0  0  \n",
      "\n",
      "[4521 rows x 12 columns]\n"
     ]
    }
   ],
   "source": [
    "col_drop = [\"duration\", \"campaign\", \"pdays\", \"previous\", \"poutcome\"]\n",
    "\n",
    "for i in range(0,len(col_drop)):\n",
    "    data = data.drop(col_drop[i], axis = 1) #'derruba' as colunas selecionadas\n",
    "    \n",
    "print(data)"
   ]
  },
  {
   "cell_type": "code",
   "execution_count": 8,
   "metadata": {},
   "outputs": [
    {
     "name": "stdout",
     "output_type": "stream",
     "text": [
      "0       0.068455\n",
      "1       0.108750\n",
      "2       0.062590\n",
      "3       0.064281\n",
      "4       0.044469\n",
      "          ...   \n",
      "4516    0.039999\n",
      "4517    0.000000\n",
      "4518    0.048429\n",
      "4519    0.059731\n",
      "4520    0.059717\n",
      "Name: balance, Length: 4521, dtype: float64\n",
      "0       0.161765\n",
      "1       0.205882\n",
      "2       0.235294\n",
      "3       0.161765\n",
      "4       0.588235\n",
      "          ...   \n",
      "4516    0.205882\n",
      "4517    0.558824\n",
      "4518    0.558824\n",
      "4519    0.132353\n",
      "4520    0.367647\n",
      "Name: age, Length: 4521, dtype: float64\n"
     ]
    }
   ],
   "source": [
    "from sklearn.preprocessing import MinMaxScaler \n",
    "\n",
    "col_to_transform = ['balance', 'age']\n",
    "\n",
    "scaler = MinMaxScaler()\n",
    "\n",
    "for i in range(0, len(col_to_transform)):\n",
    "    scaler = scaler.fit(data[col_to_transform[i]].values.reshape(-1, 1))\n",
    "    data[col_to_transform[i]] = scaler.transform(data[col_to_transform[i]].values.reshape(-1, 1))\n",
    "    \n",
    "print(data['balance'])\n",
    "print(data['age'])"
   ]
  },
  {
   "cell_type": "code",
   "execution_count": 9,
   "metadata": {},
   "outputs": [
    {
     "name": "stdout",
     "output_type": "stream",
     "text": [
      "           age  job  marital  education  default   balance  housing  loan  \\\n",
      "4383  0.102941    0        2          1        0  0.052644        0     0   \n",
      "502   0.176471    4        1          2        0  0.044644        0     0   \n",
      "4052  0.485294   10        1          0        0  0.044738        1     0   \n",
      "3634  0.514706    5        1          1        0  0.046523        1     1   \n",
      "3088  0.176471    9        2          1        0  0.078616        0     0   \n",
      "...        ...  ...      ...        ...      ...       ...      ...   ...   \n",
      "1033  0.147059    9        2          1        0  0.051637        1     0   \n",
      "3264  0.250000    4        2          2        0  0.052697        0     0   \n",
      "1653  0.500000    1        1          0        0  0.048577        0     0   \n",
      "2607  0.191176    1        1          0        0  0.053087        0     1   \n",
      "2732  0.382353    9        1          0        0  0.040147        0     0   \n",
      "\n",
      "      contact  day  month  \n",
      "4383        1   28      4  \n",
      "502         0   28      1  \n",
      "4052        1   28      4  \n",
      "3634        2   26      8  \n",
      "3088        0   15      5  \n",
      "...       ...  ...    ...  \n",
      "1033        0   18      8  \n",
      "3264        0    7      1  \n",
      "1653        0   28      5  \n",
      "2607        0    8      5  \n",
      "2732        2    9      6  \n",
      "\n",
      "[3616 rows x 11 columns]\n",
      "4383    0\n",
      "502     0\n",
      "4052    0\n",
      "3634    0\n",
      "3088    1\n",
      "       ..\n",
      "1033    0\n",
      "3264    0\n",
      "1653    1\n",
      "2607    0\n",
      "2732    0\n",
      "Name: y, Length: 3616, dtype: int32\n",
      "           age  job  marital  education  default   balance  housing  loan  \\\n",
      "4274  0.235294    1        1          0        0  0.049543        1     0   \n",
      "72    0.176471    4        2          2        0  0.128334        1     0   \n",
      "1065  0.161765   10        1          2        0  0.044469        1     0   \n",
      "3185  0.338235    0        1          1        0  0.051570        1     1   \n",
      "130   0.323529    1        1          0        0  0.046724        1     0   \n",
      "...        ...  ...      ...        ...      ...       ...      ...   ...   \n",
      "1523  0.220588    9        2          1        0  0.073704        1     0   \n",
      "2591  0.220588    4        1          2        0  0.083287        1     1   \n",
      "1224  0.117647    7        2          1        0  0.047167        1     0   \n",
      "3071  0.220588    9        2          1        0  0.049127        1     0   \n",
      "1680  0.191176    9        2          1        0  0.044469        0     0   \n",
      "\n",
      "      contact  day  month  \n",
      "4274        2   16      8  \n",
      "72          2    9      8  \n",
      "1065        0   18      9  \n",
      "3185        0   19      9  \n",
      "130         0   18      9  \n",
      "...       ...  ...    ...  \n",
      "1523        0   26      8  \n",
      "2591        0   30      5  \n",
      "1224        2    4      6  \n",
      "3071        0    6      3  \n",
      "1680        0   18      1  \n",
      "\n",
      "[905 rows x 11 columns]\n",
      "4274    0\n",
      "72      0\n",
      "1065    0\n",
      "3185    0\n",
      "130     0\n",
      "       ..\n",
      "1523    0\n",
      "2591    0\n",
      "1224    0\n",
      "3071    0\n",
      "1680    1\n",
      "Name: y, Length: 905, dtype: int32\n"
     ]
    }
   ],
   "source": [
    "from sklearn.model_selection import train_test_split\n",
    "\n",
    "y = data['y']\n",
    "\n",
    "x = data\n",
    "x = x.loc[:, x.columns != 'y']\n",
    "\n",
    "x_train, x_test, y_train, y_test = train_test_split(x, y, test_size = 0.2, random_state = 0)\n",
    "\n",
    "print(x_train)\n",
    "print(y_train)\n",
    "print(x_test)\n",
    "print(y_test)"
   ]
  },
  {
   "cell_type": "code",
   "execution_count": 15,
   "metadata": {},
   "outputs": [
    {
     "name": "stdout",
     "output_type": "stream",
     "text": [
      "_________________________________________________________________\n",
      "Layer (type)                 Output Shape              Param #   \n",
      "=================================================================\n",
      "dense_7 (Dense)              (None, 128)               1536      \n",
      "_________________________________________________________________\n",
      "dropout_5 (Dropout)          (None, 128)               0         \n",
      "_________________________________________________________________\n",
      "dense_8 (Dense)              (None, 64)                8256      \n",
      "_________________________________________________________________\n",
      "dropout_6 (Dropout)          (None, 64)                0         \n",
      "_________________________________________________________________\n",
      "dense_9 (Dense)              (None, 2)                 130       \n",
      "=================================================================\n",
      "Total params: 9,922\n",
      "Trainable params: 9,922\n",
      "Non-trainable params: 0\n",
      "_________________________________________________________________\n",
      "None\n"
     ]
    }
   ],
   "source": [
    "from keras.models import Sequential\n",
    "from keras.layers import Dense\n",
    "from keras.layers import Dropout\n",
    "\n",
    "model = Sequential()\n",
    "\n",
    "model.add(Dense(units=128, activation = 'relu', input_dim=11))\n",
    "model.add(Dropout(rate=0.1))\n",
    "model.add(Dense(units=64, activation = 'relu'))\n",
    "model.add(Dropout(rate=0.1))\n",
    "model.add(Dense(units=2, activation = 'softmax'))\n",
    "\n",
    "model.compile(loss='sparse_categorical_crossentropy', optimizer='sgd', metrics=['accuracy'])\n",
    "\n",
    "print(model.summary())"
   ]
  },
  {
   "cell_type": "code",
   "execution_count": 16,
   "metadata": {},
   "outputs": [
    {
     "name": "stdout",
     "output_type": "stream",
     "text": [
      "Epoch 1/10\n",
      "3616/3616 [==============================] - 1s 205us/step - loss: 0.4195 - acc: 0.8772\n",
      "Epoch 2/10\n",
      "3616/3616 [==============================] - 0s 54us/step - loss: 0.3807 - acc: 0.8863\n",
      "Epoch 3/10\n",
      "3616/3616 [==============================] - 0s 59us/step - loss: 0.3748 - acc: 0.8869\n",
      "Epoch 4/10\n",
      "3616/3616 [==============================] - 0s 54us/step - loss: 0.3660 - acc: 0.8869\n",
      "Epoch 5/10\n",
      "3616/3616 [==============================] - 0s 57us/step - loss: 0.3582 - acc: 0.8869\n",
      "Epoch 6/10\n",
      "3616/3616 [==============================] - 0s 51us/step - loss: 0.3596 - acc: 0.8869\n",
      "Epoch 7/10\n",
      "3616/3616 [==============================] - 0s 56us/step - loss: 0.3585 - acc: 0.8869\n",
      "Epoch 8/10\n",
      "3616/3616 [==============================] - 0s 52us/step - loss: 0.3582 - acc: 0.8869\n",
      "Epoch 9/10\n",
      "3616/3616 [==============================] - 0s 56us/step - loss: 0.3571 - acc: 0.8869\n",
      "Epoch 10/10\n",
      "3616/3616 [==============================] - 0s 58us/step - loss: 0.3577 - acc: 0.8869\n"
     ]
    },
    {
     "data": {
      "text/plain": [
       "<keras.callbacks.History at 0x26548b102c8>"
      ]
     },
     "execution_count": 16,
     "metadata": {},
     "output_type": "execute_result"
    }
   ],
   "source": [
    "model.fit(x_train, y_train, epochs = 10, batch_size = 32)"
   ]
  },
  {
   "cell_type": "code",
   "execution_count": 17,
   "metadata": {},
   "outputs": [
    {
     "name": "stdout",
     "output_type": "stream",
     "text": [
      "905/905 [==============================] - 0s 126us/step\n"
     ]
    },
    {
     "data": {
      "text/plain": [
       "[0.37348715508181746, 0.876243094054375]"
      ]
     },
     "execution_count": 17,
     "metadata": {},
     "output_type": "execute_result"
    }
   ],
   "source": [
    "model.evaluate(x_test , y_test) # loss, accuracy"
   ]
  },
  {
   "cell_type": "code",
   "execution_count": null,
   "metadata": {},
   "outputs": [],
   "source": []
  }
 ],
 "metadata": {
  "kernelspec": {
   "display_name": "Python 3",
   "language": "python",
   "name": "python3"
  },
  "language_info": {
   "codemirror_mode": {
    "name": "ipython",
    "version": 3
   },
   "file_extension": ".py",
   "mimetype": "text/x-python",
   "name": "python",
   "nbconvert_exporter": "python",
   "pygments_lexer": "ipython3",
   "version": "3.7.4"
  }
 },
 "nbformat": 4,
 "nbformat_minor": 2
}
